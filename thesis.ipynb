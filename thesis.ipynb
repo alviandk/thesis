{
 "cells": [
  {
   "cell_type": "markdown",
   "metadata": {},
   "source": [
    "To setup a Bayesian model, we need to assign prior distributions to our unknown quantities. *A priori*, *B priori*, and *C priori*, what do we think $p_A$, $p_B$, and $p_C$ might be? For this example, we have no strong conviction about $p_A$, $p_B$, and $p_C$, so for now, let's assume $p_A$, $p_B$, and $p_C$, is uniform over [0,1]:"
   ]
  },
  {
   "cell_type": "code",
   "execution_count": 1,
   "metadata": {},
   "outputs": [
    {
     "name": "stderr",
     "output_type": "stream",
     "text": [
      "WARNING (theano.tensor.blas): Using NumPy C-API based implementation for BLAS functions.\n"
     ]
    }
   ],
   "source": [
    "import pymc3 as pm\n",
    "import numpy as np\n",
    "%matplotlib inline\n",
    "from IPython.core.pylabtools import figsize\n",
    "import matplotlib.pyplot as plt\n",
    "import scipy.stats as stats\n",
    "figsize(12.5, 4)\n"
   ]
  },
  {
   "cell_type": "code",
   "execution_count": 2,
   "metadata": {},
   "outputs": [],
   "source": [
    "true_A = 120\n",
    "true_B = 129\n",
    "true_C = 84\n",
    "\n",
    "N_sample = 1156\n"
   ]
  },
  {
   "cell_type": "code",
   "execution_count": 3,
   "metadata": {},
   "outputs": [
    {
     "name": "stdout",
     "output_type": "stream",
     "text": [
      "true p_A: 0.10380622837370242\n",
      "true p_B: 0.1115916955017301\n",
      "true p_C: 0.0726643598615917 \n",
      "\n"
     ]
    }
   ],
   "source": [
    "true_p_A = true_A/float(N_sample)\n",
    "true_p_B = true_B/float(N_sample)\n",
    "true_p_C = true_C/float(N_sample)\n",
    "\n",
    "print(\"true p_A:\", true_p_A)\n",
    "print(\"true p_B:\", true_p_B)\n",
    "print(\"true p_C:\", true_p_C)\n"
   ]
  },
  {
   "cell_type": "code",
   "execution_count": 4,
   "metadata": {},
   "outputs": [
    {
     "name": "stdout",
     "output_type": "stream",
     "text": [
      "Obs from Site A:  [0 0 0 0 0 0 0 0 0 0 0 1 0 0 1 0 0 0 0 0 0 1 0 0 0 0 1 0 0 0] ...\n",
      "Obs from Site B:  [0 0 0 0 0 0 0 0 0 0 0 0 1 0 0 1 0 0 0 0 0 0 0 0 1 0 1 0 0 1] ...\n",
      "Obs from Site C:  [0 0 0 0 0 0 1 0 0 0 0 0 0 0 0 0 0 0 0 0 0 0 0 0 0 0 0 0 0 0] ...\n"
     ]
    }
   ],
   "source": [
    "observations_A = stats.bernoulli.rvs(true_p_A, size=N_sample)\n",
    "observations_B = stats.bernoulli.rvs(true_p_B, size=N_sample)\n",
    "observations_C = stats.bernoulli.rvs(true_p_C, size=N_sample)\n",
    "\n",
    "print(\"Obs from Site A: \", observations_A[:30], \"...\")\n",
    "print(\"Obs from Site B: \", observations_B[:30], \"...\")\n",
    "print(\"Obs from Site C: \", observations_C[:30], \"...\")\n"
   ]
  },
  {
   "cell_type": "code",
   "execution_count": 5,
   "metadata": {},
   "outputs": [
    {
     "name": "stdout",
     "output_type": "stream",
     "text": [
      "0.0951557093426\n",
      "0.117647058824\n",
      "0.0726643598616\n",
      "110\n",
      "136\n",
      "84\n"
     ]
    }
   ],
   "source": [
    "print(np.mean(observations_A))\n",
    "print(np.mean(observations_B))\n",
    "print(np.mean(observations_C))\n",
    "\n",
    "print(np.sum(observations_A))\n",
    "print(np.sum(observations_B))\n",
    "print(np.sum(observations_C))"
   ]
  },
  {
   "cell_type": "markdown",
   "metadata": {},
   "source": [
    "Applied interval-transform to p and added transformed p\\_interval_ to model.\n",
    "\n",
    "Had we had stronger beliefs, we could have expressed them in the prior above.\n",
    "For this example, consider $p_A = 0.05$, and $N = 1500$ users shown site A, and we will simulate whether the user made a purchase or not. To simulate this from $N$ trials, we will use a *Bernoulli* distribution: if  $X\\ \\sim \\text{Ber}(p)$, then $X$ is 1 with probability $p$ and 0 with probability $1 - p$. Of course, in practice we do not know $p_A$, but we will use it here to simulate the data."
   ]
  },
  {
   "cell_type": "code",
   "execution_count": 6,
   "metadata": {},
   "outputs": [
    {
     "name": "stderr",
     "output_type": "stream",
     "text": [
      "100%|██████████| 20500/20500 [00:31<00:00, 655.28it/s]\n"
     ]
    }
   ],
   "source": [
    "with pm.Model() as model:\n",
    "    p_A = pm.Uniform(\"p_A\", 0, 1)\n",
    "    p_B = pm.Uniform(\"p_B\", 0, 1)\n",
    "    p_C = pm.Uniform(\"p_C\", 0, 1)\n",
    "    \n",
    "    # Define the deterministic delta function. This is our unknown of interest.\n",
    "    delta_A_B = pm.Deterministic(\"delta_A_B\", p_A - p_B)\n",
    "    delta_A_C = pm.Deterministic(\"delta_A_C\", p_A - p_C)\n",
    "    delta_B_C = pm.Deterministic(\"delta_B_C\", p_B - p_C)\n",
    "    \n",
    "    # Set of observations, in this case we have three observation datasets.\n",
    "    obs_A = pm.Bernoulli(\"obs_A\", p_A, observed=observations_A)\n",
    "    obs_B = pm.Bernoulli(\"obs_B\", p_B, observed=observations_B)\n",
    "    obs_C = pm.Bernoulli(\"obs_C\", p_C, observed=observations_C)\n",
    "\n",
    "    step = pm.Metropolis()\n",
    "    trace = pm.sample(20000, step=step)\n",
    "    burned_trace=trace[1000:]"
   ]
  },
  {
   "cell_type": "code",
   "execution_count": 7,
   "metadata": {
    "scrolled": false
   },
   "outputs": [
    {
     "name": "stdout",
     "output_type": "stream",
     "text": [
      "[ 0.09788991  0.09788991  0.09788991 ...,  0.09576424  0.09576424\n",
      "  0.09576424]\n",
      "[ 0.11303909  0.11303909  0.11666547 ...,  0.13656472  0.13133698\n",
      "  0.13133698]\n",
      "[ 0.07218273  0.07218273  0.07572089 ...,  0.07263615  0.07263615\n",
      "  0.07263615]\n",
      "[-0.01514918 -0.01514918 -0.01877555 ..., -0.04080048 -0.03557274\n",
      " -0.03557274]\n",
      "[ 0.02570718  0.02570718  0.02216902 ...,  0.02312809  0.02312809\n",
      "  0.02312809]\n",
      "[ 0.04085636  0.04085636  0.04094457 ...,  0.06392857  0.05870084\n",
      "  0.05870084]\n"
     ]
    }
   ],
   "source": [
    "p_A_samples = burned_trace[\"p_A\"]\n",
    "p_B_samples = burned_trace[\"p_B\"]\n",
    "p_C_samples = burned_trace[\"p_C\"]\n",
    "delta_A_B_samples = burned_trace[\"delta_A_B\"]\n",
    "delta_A_C_samples = burned_trace[\"delta_A_C\"]\n",
    "delta_B_C_samples = burned_trace[\"delta_B_C\"]\n",
    "\n",
    "print(p_A_samples)\n",
    "print(p_B_samples)\n",
    "print(p_C_samples)\n",
    "print(delta_A_B_samples)\n",
    "print(delta_A_C_samples)\n",
    "print(delta_B_C_samples)"
   ]
  },
  {
   "cell_type": "code",
   "execution_count": 8,
   "metadata": {},
   "outputs": [
    {
     "data": {
      "text/plain": [
       "Text(0.5,1,'Posterior distributions of $p_A$, $p_B$, and delta unknowns')"
      ]
     },
     "execution_count": 8,
     "metadata": {},
     "output_type": "execute_result"
    },
    {
     "data": {
      "image/png": "[encoded data removed]",
      "text/plain": [
       "<matplotlib.figure.Figure at 0x7f0339128f60>"
      ]
     },
     "metadata": {},
     "output_type": "display_data"
    }
   ],
   "source": [
    "figsize(12.5, 10)\n",
    "\n",
    "#histogram of posteriors\n",
    "\n",
    "ax = plt.subplot(311)\n",
    "\n",
    "plt.xlim(.06, .2)\n",
    "plt.hist(p_A_samples, histtype='stepfilled', bins=25, alpha=0.85,\n",
    "         label=\"posterior of $p_A$\", color=\"#A60628\", normed=True)\n",
    "plt.vlines(true_p_A, 0, 80, linestyle=\"--\", label=\"true $p_A$ (unknown)\")\n",
    "plt.legend(loc=\"upper right\")\n"
   ]
  },
  {
   "cell_type": "code",
   "execution_count": 9,
   "metadata": {},
   "outputs": [
    {
     "data": {
      "text/plain": [
       "<matplotlib.legend.Legend at 0x7f03334969e8>"
      ]
     },
     "execution_count": 9,
     "metadata": {},
     "output_type": "execute_result"
    },
    {
     "data": {
      "image/png": "[encoded data removed]",
      "text/plain": [
       "<matplotlib.figure.Figure at 0x7f033255fd30>"
      ]
     },
     "metadata": {},
     "output_type": "display_data"
    }
   ],
   "source": [
    "ax = plt.subplot(312)\n",
    "\n",
    "plt.xlim(.06, .2)\n",
    "plt.hist(p_B_samples, histtype='stepfilled', bins=25, alpha=0.85,\n",
    "         label=\"posterior of $p_B$\", color=\"#467821\", normed=True)\n",
    "plt.vlines(true_p_B, 0, 80, linestyle=\"--\", label=\"true $p_B$ (unknown)\")\n",
    "plt.legend(loc=\"upper right\")\n"
   ]
  },
  {
   "cell_type": "code",
   "execution_count": 10,
   "metadata": {},
   "outputs": [
    {
     "data": {
      "text/plain": [
       "<matplotlib.legend.Legend at 0x7f0332445a90>"
      ]
     },
     "execution_count": 10,
     "metadata": {},
     "output_type": "execute_result"
    },
    {
     "data": {
      "image/png": "[encoded data removed]",
      "text/plain": [
       "<matplotlib.figure.Figure at 0x7f03334e9710>"
      ]
     },
     "metadata": {},
     "output_type": "display_data"
    }
   ],
   "source": [
    "ax = plt.subplot(313)\n",
    "\n",
    "plt.xlim(0, .1)\n",
    "plt.hist(p_C_samples, histtype='stepfilled', bins=25, alpha=0.85,\n",
    "         label=\"posterior of $p_C$\", color=\"#D6F841\", normed=True)\n",
    "plt.vlines(true_p_C, 0, 80, linestyle=\"--\", label=\"true $p_C$ (unknown)\")\n",
    "plt.legend(loc=\"upper right\")"
   ]
  },
  {
   "cell_type": "code",
   "execution_count": 11,
   "metadata": {},
   "outputs": [
    {
     "data": {
      "image/png": "[encoded data removed]",
      "text/plain": [
       "<matplotlib.figure.Figure at 0x7f033402e940>"
      ]
     },
     "metadata": {},
     "output_type": "display_data"
    }
   ],
   "source": [
    "ax = plt.subplot(313)\n",
    "plt.hist(delta_A_B_samples, histtype='stepfilled', bins=30, alpha=0.85,\n",
    "         label=\"posterior of delta A-B\", color=\"#7A68A6\", normed=True)\n",
    "plt.vlines(true_p_A - true_p_B, 0, 60, linestyle=\"--\",\n",
    "           label=\"true delta (unknown)\")\n",
    "plt.vlines(0, 0, 60, color=\"black\", alpha=0.2)\n",
    "plt.legend(loc=\"upper right\");"
   ]
  },
  {
   "cell_type": "code",
   "execution_count": 12,
   "metadata": {},
   "outputs": [
    {
     "data": {
      "image/png": "[encoded data removed]",
      "text/plain": [
       "<matplotlib.figure.Figure at 0x7f0333284358>"
      ]
     },
     "metadata": {},
     "output_type": "display_data"
    }
   ],
   "source": [
    "\n",
    "\n",
    "ax = plt.subplot(313)\n",
    "plt.hist(delta_A_C_samples, histtype='stepfilled', bins=30, alpha=0.85,\n",
    "         label=\"posterior of delta A-C\", color=\"#B868B6\", normed=True)\n",
    "plt.vlines(true_p_A - true_p_C, 0, 60, linestyle=\"--\",\n",
    "           label=\"true delta (unknown)\")\n",
    "plt.vlines(0, 0, 60, color=\"black\")\n",
    "plt.legend(loc=\"upper right\");\n",
    "\n"
   ]
  },
  {
   "cell_type": "code",
   "execution_count": 13,
   "metadata": {},
   "outputs": [
    {
     "data": {
      "image/png": "[encoded data removed]",
      "text/plain": [
       "<matplotlib.figure.Figure at 0x7f033281d828>"
      ]
     },
     "metadata": {},
     "output_type": "display_data"
    }
   ],
   "source": [
    "ax = plt.subplot(313)\n",
    "plt.hist(delta_B_C_samples, histtype='stepfilled', bins=30, alpha=0.85,\n",
    "         label=\"posterior of delta B-C\", color=\"#24B8A6\", normed=True)\n",
    "plt.vlines(true_p_B - true_p_C, 0, 60, linestyle=\"--\",\n",
    "           label=\"true delta (unknown)\")\n",
    "plt.vlines(0, 0, 60, color=\"black\")\n",
    "plt.legend(loc=\"upper right\");"
   ]
  },
  {
   "cell_type": "code",
   "execution_count": 14,
   "metadata": {},
   "outputs": [
    {
     "name": "stdout",
     "output_type": "stream",
     "text": [
      "Probability site A is WORSE than site B: 0.961\n",
      "Probability site A is BETTER than site B: 0.039\n",
      "\n",
      "Probability site A is WORSE than site C: 0.025\n",
      "Probability site A is BETTER than site C: 0.975 \n",
      "\n",
      "Probability site B is WORSE than site C: 0.000\n",
      "Probability site B is BETTER than site C: 1.000\n"
     ]
    }
   ],
   "source": [
    "# Count the number of samples less than 0, i.e. the area under the curve\n",
    "# before 0, represent the probability that site A is worse than site B.\n",
    "print(\"Probability site A is WORSE than site B: %.3f\" % \\\n",
    "    np.mean(delta_A_B_samples < 0))\n",
    "\n",
    "print(\"Probability site A is BETTER than site B: %.3f\" % \\\n",
    "    np.mean(delta_A_B_samples > 0))\n",
    "\n",
    "print(\"\\nProbability site A is WORSE than site C: %.3f\" % \\\n",
    "    np.mean(delta_A_C_samples < 0))\n",
    "\n",
    "print(\"Probability site A is BETTER than site C: %.3f \\n\" % \\\n",
    "    np.mean(delta_A_C_samples > 0))\n",
    "\n",
    "print(\"Probability site B is WORSE than site C: %.3f\" % \\\n",
    "    np.mean(delta_B_C_samples < 0))\n",
    "\n",
    "print(\"Probability site B is BETTER than site C: %.3f\" % \\\n",
    "    np.mean(delta_B_C_samples > 0))"
   ]
  },
  {
   "cell_type": "code",
   "execution_count": null,
   "metadata": {},
   "outputs": [],
   "source": []
  }
 ],
 "metadata": {
  "kernelspec": {
   "display_name": "Python 3",
   "language": "python",
   "name": "python3"
  },
  "language_info": {
   "codemirror_mode": {
    "name": "ipython",
    "version": 3
   },
   "file_extension": ".py",
   "mimetype": "text/x-python",
   "name": "python",
   "nbconvert_exporter": "python",
   "pygments_lexer": "ipython3",
   "version": "3.5.2"
  }
 },
 "nbformat": 4,
 "nbformat_minor": 2
}
